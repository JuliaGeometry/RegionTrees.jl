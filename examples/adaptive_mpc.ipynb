{
 "cells": [
  {
   "cell_type": "markdown",
   "metadata": {},
   "source": [
    "# Adaptively Sampled MPC\n",
    "\n",
    "This is a simple demonstration of an adaptively sampled region quadtree used to approximate the solutions to a model-predictive control problem. "
   ]
  },
  {
   "cell_type": "code",
   "execution_count": null,
   "metadata": {},
   "outputs": [],
   "source": [
    "using RegionTrees\n",
    "import StaticArrays: SVector\n",
    "using Plots\n",
    "Plots.gr()"
   ]
  },
  {
   "cell_type": "code",
   "execution_count": null,
   "metadata": {},
   "outputs": [],
   "source": [
    "# This module implements our MPC code, which consists of a 1-dimensional\n",
    "# double-integrator system, forward-euler time-stepping dynamics, and a \n",
    "# 10 step prediction window. \n",
    "\n",
    "module mpc\n",
    "\n",
    "using JuMP\n",
    "using Gurobi\n",
    "using StaticArrays\n",
    "using Interpolations\n",
    "using RegionTrees\n",
    "import RegionTrees: AbstractRefinery, needs_refinement, refine_data\n",
    "\n",
    "# Solve the MPC problem from a given initial position and velocity\n",
    "function run_mpc(q0, v0)\n",
    "    model = Model(solver=GurobiSolver(OutputFlag=0))\n",
    "    num_time_steps = 10\n",
    "    dt = 0.1\n",
    "    u_limit = 3\n",
    "    C_q = 100\n",
    "    c_vfinal = 100\n",
    "    C_u = 1\n",
    "\n",
    "    @variable model q[1:num_time_steps]\n",
    "    @variable model v[1:num_time_steps]\n",
    "    @variable model u[1:num_time_steps]\n",
    "\n",
    "    @constraint model [i=2:num_time_steps] q[i] == q[i-1] + v[i-1] * dt\n",
    "    @constraint model [i=2:num_time_steps] v[i] == v[i-1] + u[i-1] * dt\n",
    "    @constraint model u .<= u_limit\n",
    "    @constraint model u .>= -u_limit\n",
    "    @constraint model q[1] == q0\n",
    "    @constraint model v[1] == v0\n",
    "\n",
    "    @objective model Min C_q * sum{q[i]^2, i=1:num_time_steps} + c_vfinal * v[end]^2 + C_u * sum{u[i]^2, i=1:num_time_steps}\n",
    "    solve(model)\n",
    "\n",
    "    getvalue(q), getvalue(v), getvalue(u)\n",
    "end\n",
    "\n",
    "# The MPCRefinery provides enough behavior to implement the \n",
    "# RegionTrees AdaptiveSampling interface, which lets us generate\n",
    "# a quadtree of initial states and their corresponding MPC solutions.\n",
    "struct MPCRefinery <: AbstractRefinery\n",
    "end\n",
    "\n",
    "function evaluate(cell, point)\n",
    "    p = (point - cell.boundary.origin) ./ cell.boundary.widths\n",
    "    cell.data[p[1] + 1, p[2] + 1]\n",
    "end\n",
    "\n",
    "# A cell in the quadtree needs refinement if its interpolated solution\n",
    "# derived from its vertices is not a good fit for the true MPC solution\n",
    "# at its center and the center of each of its faces\n",
    "function needs_refinement(::MPCRefinery, cell)\n",
    "    for x in body_and_face_centers(cell.boundary)\n",
    "        value_interp = evaluate(cell, x)\n",
    "        value_true = run_mpc(x[1], x[2])[3]\n",
    "        if !isapprox(value_interp[1], value_true[1], rtol=1e-1, atol=1e-1)\n",
    "            return true\n",
    "        end\n",
    "    end\n",
    "    false\n",
    "end\n",
    "\n",
    "# The data element associated with a cell is a bilinear interpolation\n",
    "# of the MPC function evaluated at the vertices of the cell.\n",
    "function refine_data(r::MPCRefinery, cell::Cell, indices)\n",
    "    refine_data(r, child_boundary(cell, indices))\n",
    "end\n",
    "\n",
    "function refine_data(::MPCRefinery, boundary::HyperRectangle)\n",
    "    f = v -> run_mpc(v[1], v[2])[3]\n",
    "    interpolate(f.(vertices(boundary)),\n",
    "                BSpline(Linear()), OnGrid())\n",
    "end\n",
    "\n",
    "# Needed to let us interpolate directly on arrays of control inputs\n",
    "Base.one{T, N}(::Type{Array{T, N}}) = one(T)\n",
    "\n",
    "end"
   ]
  },
  {
   "cell_type": "code",
   "execution_count": null,
   "metadata": {},
   "outputs": [],
   "source": [
    "# Simulate a given control function for the double integerator\n",
    "# model.\n",
    "function simulate(controller, q0, v0, dt, timespan)\n",
    "    num_time_steps = timespan / dt\n",
    "    qs = [q0]\n",
    "    vs = [v0]\n",
    "    ts = [0.0]\n",
    "    q = q0\n",
    "    v = v0\n",
    "    for t in 0:dt:(timespan)\n",
    "        u = controller(t, q, v)\n",
    "        q += v * dt\n",
    "        v += u * dt\n",
    "        push!(qs, q)\n",
    "        push!(vs, v)\n",
    "        push!(ts, t)\n",
    "    end\n",
    "    ts, qs, vs\n",
    "end\n",
    "        "
   ]
  },
  {
   "cell_type": "code",
   "execution_count": null,
   "metadata": {},
   "outputs": [],
   "source": [
    "controller = (t, q, v) -> begin\n",
    "    q, v, u = mpc.run_mpc(q, v)\n",
    "    u[1]\n",
    "end"
   ]
  },
  {
   "cell_type": "code",
   "execution_count": null,
   "metadata": {},
   "outputs": [],
   "source": [
    "t, q, v = simulate(controller, 10.0, 0.0, 0.1, 10)"
   ]
  },
  {
   "cell_type": "code",
   "execution_count": null,
   "metadata": {},
   "outputs": [],
   "source": [
    "# State space portrait of the solution, starting from q=10, v=0\n",
    "plot(q, v, xlim=(-10, 10), ylim=(-10, 10), xlabel=\"q\", ylabel=\"v\", legend=nothing)"
   ]
  },
  {
   "cell_type": "code",
   "execution_count": null,
   "metadata": {},
   "outputs": [],
   "source": [
    "plot(t, q, xlabel=\"t\", ylabel=\"q\", legend=nothing)"
   ]
  },
  {
   "cell_type": "code",
   "execution_count": null,
   "metadata": {},
   "outputs": [],
   "source": [
    "plot(t, v, xlabel=\"t\", ylabel=\"v\", legend=nothing)"
   ]
  },
  {
   "cell_type": "markdown",
   "metadata": {},
   "source": [
    "# Approximating the solutions space\n",
    "Now that we've written down and tested the true MPC solution, we can try to approximate it. The AdaptiveSampling() function will generate a quadtree by iteratively refining each cell in the space until the solutions to the MPC problem within that cell are well-approximated by the interpolation. "
   ]
  },
  {
   "cell_type": "code",
   "execution_count": null,
   "metadata": {},
   "outputs": [],
   "source": [
    "boundary = RegionTrees.HyperRectangle(SVector(-10., -10), SVector(20., 20))\n",
    "refinery = mpc.MPCRefinery()\n",
    "root = RegionTrees.Cell(boundary, mpc.refine_data(refinery, boundary))\n",
    "adaptivesampling!(root, refinery)"
   ]
  },
  {
   "cell_type": "code",
   "execution_count": null,
   "metadata": {},
   "outputs": [],
   "source": [
    "# Now we can plot each region in the quadtree. Note that we end up with\n",
    "# a lot of detail along the switching surface from maximum acceleration\n",
    "# to maximum deceleration\n",
    "plt = plot(xlim=(-10, 10), ylim=(-10, 10), legend=nothing, grid=false)\n",
    "for cell in RegionTrees.allleaves(root)\n",
    "    v = hcat(collect(RegionTrees.vertices(cell.boundary))...)\n",
    "    plot!(v[1,[1,2,4,3,1]], v[2,[1,2,4,3,1]])\n",
    "end\n",
    "plt"
   ]
  },
  {
   "cell_type": "markdown",
   "metadata": {},
   "source": [
    "# Using the Approximate Solution\n",
    "We can use the quadtree to produce an approximate controller for our system. Given the current state, we can look up the cell in the quadtree which encompasses that state, then use that cell's interpolation to find our control tape. "
   ]
  },
  {
   "cell_type": "code",
   "execution_count": null,
   "metadata": {},
   "outputs": [],
   "source": [
    "approx_controller = (t, q, v) -> begin\n",
    "    x = [q, v]\n",
    "    leaf = RegionTrees.findleaf(root, x)\n",
    "    u = mpc.evaluate(leaf, x)\n",
    "    u[1]\n",
    "end"
   ]
  },
  {
   "cell_type": "code",
   "execution_count": null,
   "metadata": {},
   "outputs": [],
   "source": [
    "t, q, v = simulate(approx_controller, 10.0, 0.0, 0.1, 10)"
   ]
  },
  {
   "cell_type": "code",
   "execution_count": null,
   "metadata": {},
   "outputs": [],
   "source": [
    "# The results are similar to, but not quite as good as, the \n",
    "# values obtained from the exact MPC solution. \n",
    "plot(q, v, xlim=(-10, 10), ylim=(-10, 10), xlabel=\"q\", ylabel=\"v\", legend=nothing)"
   ]
  }
 ],
 "metadata": {
  "kernelspec": {
   "display_name": "Julia 1.0.1",
   "language": "julia",
   "name": "julia-1.0"
  },
  "language_info": {
   "file_extension": ".jl",
   "mimetype": "application/julia",
   "name": "julia",
   "version": "1.0.1"
  }
 },
 "nbformat": 4,
 "nbformat_minor": 2
}
