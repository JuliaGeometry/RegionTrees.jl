{
 "cells": [
  {
   "cell_type": "code",
   "execution_count": 1,
   "metadata": {
    "collapsed": false
   },
   "outputs": [],
   "source": [
    "using RegionTrees\n",
    "import StaticArrays: SVector\n",
    "using Plots"
   ]
  },
  {
   "cell_type": "code",
   "execution_count": 2,
   "metadata": {
    "collapsed": false
   },
   "outputs": [
    {
     "data": {
      "text/plain": [
       "Cell: RegionTrees.HyperRectangle{2,Float64}([0.0,0.0],[1.0,1.0])"
      ]
     },
     "execution_count": 2,
     "metadata": {},
     "output_type": "execute_result"
    }
   ],
   "source": [
    "# The most basic data type in this package is a Cell,\n",
    "# which can represent a node or a leaf in the tree.\n",
    "# Let's build a Cell which spans from [0, 0] and has\n",
    "# length 1 along each axis\n",
    "root = Cell(SVector(0., 0), SVector(1., 1))"
   ]
  },
  {
   "cell_type": "code",
   "execution_count": 3,
   "metadata": {
    "collapsed": false
   },
   "outputs": [
    {
     "data": {
      "text/plain": [
       "true"
      ]
     },
     "execution_count": 3,
     "metadata": {},
     "output_type": "execute_result"
    }
   ],
   "source": [
    "# The Cell type is used for leaves and nodes. We can check\n",
    "# if root is a leaf with isleaf() \n",
    "isleaf(root)"
   ]
  },
  {
   "cell_type": "code",
   "execution_count": 4,
   "metadata": {
    "collapsed": false
   },
   "outputs": [
    {
     "data": {
      "text/plain": [
       "Cell: RegionTrees.HyperRectangle{2,Float64}([0.0,0.0],[1.0,1.0])"
      ]
     },
     "execution_count": 4,
     "metadata": {},
     "output_type": "execute_result"
    }
   ],
   "source": [
    "# Now let's refine the cell:\n",
    "split!(root)"
   ]
  },
  {
   "cell_type": "code",
   "execution_count": 5,
   "metadata": {
    "collapsed": false
   },
   "outputs": [
    {
     "data": {
      "text/plain": [
       "false"
      ]
     },
     "execution_count": 5,
     "metadata": {},
     "output_type": "execute_result"
    }
   ],
   "source": [
    "# The cell is no longer a leaf because it now has children:\n",
    "isleaf(root)"
   ]
  },
  {
   "cell_type": "code",
   "execution_count": 6,
   "metadata": {
    "collapsed": false
   },
   "outputs": [],
   "source": [
    "@assert length(children(root)) == 4"
   ]
  },
  {
   "cell_type": "code",
   "execution_count": 7,
   "metadata": {
    "collapsed": false
   },
   "outputs": [
    {
     "data": {
      "text/plain": [
       "Cell: RegionTrees.HyperRectangle{2,Float64}([0.0,0.0],[0.5,0.5])"
      ]
     },
     "execution_count": 7,
     "metadata": {},
     "output_type": "execute_result"
    }
   ],
   "source": [
    "# Each child now represents one quarter of the region\n",
    "# spanned by root. We can access children using the\n",
    "# indexing notation:\n",
    "root[1,1]"
   ]
  },
  {
   "cell_type": "code",
   "execution_count": 8,
   "metadata": {
    "collapsed": false
   },
   "outputs": [
    {
     "data": {
      "text/plain": [
       "Cell: RegionTrees.HyperRectangle{2,Float64}([0.0,0.0],[0.5,0.5])"
      ]
     },
     "execution_count": 8,
     "metadata": {},
     "output_type": "execute_result"
    }
   ],
   "source": [
    "# or with the children() function:\n",
    "children(root)[1,1]"
   ]
  },
  {
   "cell_type": "code",
   "execution_count": 9,
   "metadata": {
    "collapsed": false
   },
   "outputs": [
    {
     "data": {
      "text/plain": [
       "Cell: RegionTrees.HyperRectangle{2,Float64}([0.0,0.0],[0.5,0.5])"
      ]
     },
     "execution_count": 9,
     "metadata": {},
     "output_type": "execute_result"
    }
   ],
   "source": [
    "# We can further refine one of the children:\n",
    "split!(root[1,1])"
   ]
  },
  {
   "cell_type": "code",
   "execution_count": 10,
   "metadata": {
    "collapsed": false
   },
   "outputs": [
    {
     "data": {
      "text/plain": [
       "Cell: RegionTrees.HyperRectangle{2,Float64}([0.0,0.0],[0.25,0.25])"
      ]
     },
     "execution_count": 10,
     "metadata": {},
     "output_type": "execute_result"
    }
   ],
   "source": [
    "# Now there are more children:\n",
    "root[1,1][1,1]"
   ]
  },
  {
   "cell_type": "code",
   "execution_count": 11,
   "metadata": {
    "collapsed": false
   },
   "outputs": [
    {
     "data": {
      "text/plain": [
       "Cell: RegionTrees.HyperRectangle{2,Float64}([0.0,0.25],[0.25,0.25])"
      ]
     },
     "execution_count": 11,
     "metadata": {},
     "output_type": "execute_result"
    }
   ],
   "source": [
    "root[1,1][1,2]"
   ]
  },
  {
   "cell_type": "code",
   "execution_count": 12,
   "metadata": {
    "collapsed": false
   },
   "outputs": [
    {
     "data": {
      "text/html": [
       "<img src=\"data:image/png;base64,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\" />"
      ]
     },
     "execution_count": 12,
     "metadata": {},
     "output_type": "execute_result"
    }
   ],
   "source": [
    "# Let's plot the cells we have so far\n",
    "plt = plot(xlim=(0, 1), ylim=(0, 1), legend=nothing)\n",
    "for leaf in allleaves(root)\n",
    "    v = hcat(collect(vertices(leaf.boundary))...)\n",
    "    plot!(plt, v[1,[1,2,4,3,1]], v[2,[1,2,4,3,1]])\n",
    "end\n",
    "plt"
   ]
  },
  {
   "cell_type": "code",
   "execution_count": 13,
   "metadata": {
    "collapsed": false
   },
   "outputs": [
    {
     "name": "stderr",
     "output_type": "stream",
     "text": [
      "/usr/local/lib/python2.7/site-packages/matplotlib/font_manager.py:1282: UserWarning: findfont: Font family [u'Helvetica'] not found. Falling back to Bitstream Vera Sans\n",
      "  (prop.get_family(), self.defaultFamily[fontext]))\n"
     ]
    }
   ],
   "source": [
    "# Now, so far just splitting cells is not super useful. Let's\n",
    "# try adding some data to each cell:"
   ]
  },
  {
   "cell_type": "code",
   "execution_count": 14,
   "metadata": {
    "collapsed": false
   },
   "outputs": [
    {
     "data": {
      "text/plain": [
       "Cell: RegionTrees.HyperRectangle{2,Float64}([0.0,0.0],[1.0,1.0])"
      ]
     },
     "execution_count": 14,
     "metadata": {},
     "output_type": "execute_result"
    }
   ],
   "source": [
    "cell = Cell(SVector(0., 0), SVector(1., 1), \"A\")"
   ]
  },
  {
   "cell_type": "code",
   "execution_count": 15,
   "metadata": {
    "collapsed": false
   },
   "outputs": [
    {
     "data": {
      "text/plain": [
       "\"A\""
      ]
     },
     "execution_count": 15,
     "metadata": {},
     "output_type": "execute_result"
    }
   ],
   "source": [
    "# We now have a new cell, with a data payload consisting of\n",
    "# a string:\n",
    "cell.data"
   ]
  },
  {
   "cell_type": "code",
   "execution_count": 16,
   "metadata": {
    "collapsed": false
   },
   "outputs": [
    {
     "data": {
      "text/plain": [
       "RegionTrees.Cell{String,2,Float64,4}"
      ]
     },
     "execution_count": 16,
     "metadata": {},
     "output_type": "execute_result"
    }
   ],
   "source": [
    "# The type of the data payload (String) is now part of the cell's\n",
    "# type, which lets Julia efficiently handle our cell:\n",
    "typeof(cell)"
   ]
  },
  {
   "cell_type": "code",
   "execution_count": 17,
   "metadata": {
    "collapsed": false
   },
   "outputs": [
    {
     "data": {
      "text/plain": [
       "Cell: RegionTrees.HyperRectangle{2,Float64}([0.0,0.0],[1.0,1.0])"
      ]
     },
     "execution_count": 17,
     "metadata": {},
     "output_type": "execute_result"
    }
   ],
   "source": [
    "# By default, `split!(cell)` just copies the cell's data into\n",
    "# each of its children. That's probably not what we want here.\n",
    "# Instead, we can pass in new data for each child when we call\n",
    "# split:\n",
    "split!(cell, [\"B\", \"C\", \"D\", \"E\"])"
   ]
  },
  {
   "cell_type": "code",
   "execution_count": 18,
   "metadata": {
    "collapsed": false
   },
   "outputs": [
    {
     "data": {
      "text/plain": [
       "\"B\""
      ]
     },
     "execution_count": 18,
     "metadata": {},
     "output_type": "execute_result"
    }
   ],
   "source": [
    "cell[1,1].data"
   ]
  },
  {
   "cell_type": "code",
   "execution_count": 19,
   "metadata": {
    "collapsed": false
   },
   "outputs": [
    {
     "data": {
      "text/plain": [
       "\"C\""
      ]
     },
     "execution_count": 19,
     "metadata": {},
     "output_type": "execute_result"
    }
   ],
   "source": [
    "cell[2,1].data"
   ]
  },
  {
   "cell_type": "code",
   "execution_count": 20,
   "metadata": {
    "collapsed": false
   },
   "outputs": [
    {
     "data": {
      "text/plain": [
       "Cell: RegionTrees.HyperRectangle{2,Float64}([0.25,0.75],[0.25,0.25])"
      ]
     },
     "execution_count": 20,
     "metadata": {},
     "output_type": "execute_result"
    }
   ],
   "source": [
    "# If managing a list of child data is inconvenient, you can \n",
    "# instead pass in a function to generate the child data. That\n",
    "# function will be called with two inputs: the cell being split\n",
    "# and the indices of the child being created:\n",
    "\n",
    "c = Cell(SVector(0., 0), SVector(1., 1), \"root\")\n",
    "\n",
    "# Let's make a simple data generator that just tacks on the \n",
    "# indices from the root of the tree:\n",
    "function getdata(cell, child_indices)\n",
    "    \"$(cell.data) child $(child_indices)\"\n",
    "end\n",
    "\n",
    "split!(c, getdata)\n",
    "split!(c[1,1], getdata)\n",
    "split!(c[1,2], getdata)\n",
    "split!(c[1,2][2,2], getdata)"
   ]
  },
  {
   "cell_type": "code",
   "execution_count": 21,
   "metadata": {
    "collapsed": false
   },
   "outputs": [
    {
     "data": {
      "text/plain": [
       "\"root child (1,2) child (2,2) child (1,1)\""
      ]
     },
     "execution_count": 21,
     "metadata": {},
     "output_type": "execute_result"
    }
   ],
   "source": [
    "c[1,2][2,2][1,1].data"
   ]
  },
  {
   "cell_type": "code",
   "execution_count": 22,
   "metadata": {
    "collapsed": false
   },
   "outputs": [
    {
     "data": {
      "text/plain": [
       "Cell: RegionTrees.HyperRectangle{2,Float64}([0.0,0.0],[1.0,1.0])"
      ]
     },
     "execution_count": 22,
     "metadata": {},
     "output_type": "execute_result"
    }
   ],
   "source": [
    "# Finally, there is a higher-level abstraction than this\n",
    "# for automatically splitting cells and populating their data. \n",
    "# The concept is based around adaptive sampling and is implemented\n",
    "# through the \"refinery\" concept. \n",
    "#\n",
    "# A refinery is a type which inherits from AbstractRefinery and \n",
    "# implements two methods:\n",
    "#\n",
    "# needs_refinement(refinery, cell::Cell): \n",
    "#     returns true if the cell should be split\n",
    "# \n",
    "# refine_data(refinery, cell::Cell, indices): \n",
    "#     returns the new data for the cell's child with the\n",
    "#     given indices\n",
    "#\n",
    "# You may want to use child_boundary(cell, indices) to get the bounding\n",
    "# box corresponding to the child cell for which you are generating data.\n",
    "\n",
    "# Let's create a trivial example that will refine each cell until\n",
    "# its width is less than a given tolerance:\n",
    "import RegionTrees: AbstractRefinery, needs_refinement, refine_data\n",
    "\n",
    "type MyRefinery <: AbstractRefinery\n",
    "    tolerance::Float64\n",
    "end\n",
    "\n",
    "# These two methods are all we need to implement\n",
    "function needs_refinement(r::MyRefinery, cell)\n",
    "    maximum(cell.boundary.widths) > r.tolerance\n",
    "end\n",
    "function refine_data(r::MyRefinery, cell::Cell, indices)\n",
    "    boundary = child_boundary(cell, indices)\n",
    "    \"child with widths: $(boundary.widths)\"\n",
    "end\n",
    "\n",
    "# Now we can use our refinery to create the entire tree, with\n",
    "# all cells split automatically:\n",
    "r = MyRefinery(0.05)\n",
    "root = Cell(SVector(0., 0), SVector(1., 1), \"root\")\n",
    "adaptivesampling!(root, r)"
   ]
  },
  {
   "cell_type": "code",
   "execution_count": 23,
   "metadata": {
    "collapsed": false
   },
   "outputs": [
    {
     "data": {
      "text/plain": [
       "\"child with widths: [0.03125,0.03125]\""
      ]
     },
     "execution_count": 23,
     "metadata": {},
     "output_type": "execute_result"
    }
   ],
   "source": [
    "root[1,1][1,1][1,1][1,1][1,1].data"
   ]
  },
  {
   "cell_type": "code",
   "execution_count": 24,
   "metadata": {
    "collapsed": false
   },
   "outputs": [
    {
     "data": {
      "text/html": [
       "<img src=\"data:image/png;base64,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\" />"
      ]
     },
     "execution_count": 24,
     "metadata": {},
     "output_type": "execute_result"
    }
   ],
   "source": [
    "plt = plot(xlim=(0, 1), ylim=(0, 1), legend=nothing)\n",
    "for leaf in allleaves(root)\n",
    "    v = hcat(collect(vertices(leaf.boundary))...)\n",
    "    plot!(plt, v[1,[1,2,4,3,1]], v[2,[1,2,4,3,1]])\n",
    "end\n",
    "plt"
   ]
  },
  {
   "cell_type": "code",
   "execution_count": null,
   "metadata": {
    "collapsed": true
   },
   "outputs": [],
   "source": []
  }
 ],
 "metadata": {
  "kernelspec": {
   "display_name": "Julia 0.5.0",
   "language": "julia",
   "name": "julia-0.5"
  },
  "language_info": {
   "file_extension": ".jl",
   "mimetype": "application/julia",
   "name": "julia",
   "version": "0.5.0"
  }
 },
 "nbformat": 4,
 "nbformat_minor": 2
}
