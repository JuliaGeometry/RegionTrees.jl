{
 "cells": [
  {
   "cell_type": "code",
   "execution_count": 347,
   "metadata": {
    "collapsed": false
   },
   "outputs": [
    {
     "name": "stderr",
     "output_type": "stream",
     "text": [
      "INFO: Recompiling stale cache file /Users/rdeits/.julia/lib/v0.5/AxisAlgorithms.ji for module AxisAlgorithms.\n",
      "INFO: Recompiling stale cache file /Users/rdeits/.julia/lib/v0.5/Interpolations.ji for module Interpolations.\n"
     ]
    }
   ],
   "source": [
    "using StaticArrays\n",
    "using BenchmarkTools\n",
    "using Interpolations\n",
    "# using Plots\n",
    "# plotly()"
   ]
  },
  {
   "cell_type": "code",
   "execution_count": 58,
   "metadata": {
    "collapsed": false
   },
   "outputs": [
    {
     "name": "stderr",
     "output_type": "stream",
     "text": [
      "WARNING: replacing module brt\n"
     ]
    },
    {
     "data": {
      "text/plain": [
       "brt"
      ]
     },
     "execution_count": 58,
     "metadata": {},
     "output_type": "execute_result"
    }
   ],
   "source": [
    "include(\"src/BinaryRegionTrees.jl\")"
   ]
  },
  {
   "cell_type": "code",
   "execution_count": 59,
   "metadata": {
    "collapsed": false
   },
   "outputs": [
    {
     "name": "stdout",
     "output_type": "stream",
     "text": [
      "Test Summary:        | Pass  Total\n",
      "  parents and children |   15     15\n",
      "Test Summary: | "
     ]
    },
    {
     "name": "stderr",
     "output_type": "stream",
     "text": [
      "WARNING: replacing module trees_tests\n"
     ]
    },
    {
     "name": "stdout",
     "output_type": "stream",
     "text": [
      "Pass  Total\n",
      "  geometry    |    8      8\n"
     ]
    },
    {
     "data": {
      "text/plain": [
       "trees_tests"
      ]
     },
     "execution_count": 59,
     "metadata": {},
     "output_type": "execute_result"
    }
   ],
   "source": [
    "include(\"test/runtests.jl\")"
   ]
  },
  {
   "cell_type": "markdown",
   "metadata": {},
   "source": [
    "```\n",
    "1D:\n",
    "\n",
    "c[2] * x + c[1] * (1 - x)\n",
    "\n",
    "2D:\n",
    "\n",
    "[c[1,2] * y + c[1,1] * (1 - y);\n",
    " c[2,2] * y + c[2,1] * (1 - y]\n",
    " \n",
    "= c[:,2] * y + c[:,1] * (1 - y)\n",
    "```"
   ]
  },
  {
   "cell_type": "code",
   "execution_count": 338,
   "metadata": {
    "collapsed": false
   },
   "outputs": [
    {
     "name": "stderr",
     "output_type": "stream",
     "text": [
      "WARNING: replacing module interp\n"
     ]
    },
    {
     "data": {
      "text/plain": [
       "interp"
      ]
     },
     "execution_count": 338,
     "metadata": {},
     "output_type": "execute_result"
    }
   ],
   "source": [
    "module interp\n",
    "\n",
    "using StaticArrays\n",
    "\n",
    "slicelast(A::SVector, i::Integer) = A[i]\n",
    "slicelast(A::SMatrix, i::Integer) = A[:,i]\n",
    "\n",
    "slicelast{T <: StaticArray}(A::T, i::Integer) = slicelast(A, size(T), i)\n",
    "\n",
    "@generated function slicelast{Dims}(A::SArray{Dims}, size::NTuple{3}, i::Integer)\n",
    "    newsize = Dims[1:(end-1)]\n",
    "    stride = prod(newsize)\n",
    "    quote\n",
    "        @assert i >= 1 && i <= $(Dims[end])\n",
    "        start = (i - 1) * $stride\n",
    "        @inbounds result = SMatrix{$(newsize...)}(($([:(A[$j + start]) for j in 1:stride]...)))\n",
    "        result\n",
    "    end\n",
    "end \n",
    "\n",
    "@generated function slicelast{Dims}(A::SArray{Dims}, size::NTuple, i::Integer)\n",
    "    newsize = Dims[1:(end-1)]\n",
    "    stride = prod(newsize)\n",
    "    quote\n",
    "        @assert i >= 1 && i <= $(Dims[end])\n",
    "        start = (i - 1) * $stride\n",
    "        @inbounds result = SArray{$(newsize)}(($([:(A[$j + start]) for j in 1:stride]...)))\n",
    "        result\n",
    "    end\n",
    "end\n",
    "\n",
    "# TODO: delete all other slicelast() implementations once slicing\n",
    "# an SArray returns a fixed-size type\n",
    "@generated function slicelast{T, N}(A::AbstractArray{T, N}, i::Integer)\n",
    "    Expr(:ref, :A, [:(:) for j in 1:(N - 1)]..., :i)\n",
    "end\n",
    "\n",
    "function interpolate(corner_values::AbstractVector, normalized_point::AbstractVector)\n",
    "    normalized_point[1] * (corner_values[2] - corner_values[1]) + corner_values[1]\n",
    "end\n",
    "\n",
    "function interpolate{T, N}(corner_values::AbstractArray{T, N}, normalized_point::AbstractVector)\n",
    "    c1 = slicelast(corner_values, 1)\n",
    "    c2 = slicelast(corner_values, 2)\n",
    "    y = normalized_point[N]\n",
    "    reduced_corners = (c2 - c1) * y + c1\n",
    "    interpolate(reduced_corners, pop(normalized_point))\n",
    "end\n",
    "\n",
    "@generated function interp2{T, N}(values::AbstractArray{T, N}, normalized_point::SVector{N})\n",
    "    exprs = Expr[]\n",
    "    for (i, I) in enumerate(CartesianRange(ntuple(_ -> 2, Val{N})))\n",
    "        terms = [Expr(:ref, :values, i)]\n",
    "        for j in 1:N\n",
    "            if I[j] == 1\n",
    "                push!(terms, :((1 - normalized_point[$j])))\n",
    "            else\n",
    "                push!(terms, :((normalized_point[$j])))\n",
    "            end\n",
    "        end\n",
    "        push!(exprs, Expr(:call, :(*), terms...))\n",
    "    end\n",
    "    quote\n",
    "        @assert length(values) == $(2^N)\n",
    "        @inbounds result = $(Expr(:call, :(+), exprs...))\n",
    "        result\n",
    "    end\n",
    "end\n",
    "\n",
    "end\n",
    "    "
   ]
  },
  {
   "cell_type": "code",
   "execution_count": 365,
   "metadata": {
    "collapsed": false
   },
   "outputs": [
    {
     "name": "stdout",
     "output_type": "stream",
     "text": [
      "BenchmarkTools.Trial: \n",
      "  memory estimate:  0.00 bytes\n",
      "  allocs estimate:  0\n",
      "  --------------\n",
      "  minimum time:     1.972 ns (0.00% GC)\n",
      "  median time:      1.978 ns (0.00% GC)\n",
      "  mean time:        2.023 ns (0.00% GC)\n",
      "  maximum time:     13.575 ns (0.00% GC)\n",
      "  --------------\n",
      "  samples:          10000\n",
      "  evals/sample:     1000\n",
      "  time tolerance:   5.00%\n",
      "  memory tolerance: 1.00%\n"
     ]
    },
    {
     "data": {
      "text/plain": [
       "1.25"
      ]
     },
     "execution_count": 365,
     "metadata": {},
     "output_type": "execute_result"
    }
   ],
   "source": [
    "c = SVector(1.0, 2.0)\n",
    "p = SVector(0.25)\n",
    "println(@benchmark interp.interpolate($c, $p))\n",
    "interp.interpolate(c, p)"
   ]
  },
  {
   "cell_type": "code",
   "execution_count": 366,
   "metadata": {
    "collapsed": false
   },
   "outputs": [
    {
     "data": {
      "text/plain": [
       "BenchmarkTools.Trial: \n",
       "  memory estimate:  0.00 bytes\n",
       "  allocs estimate:  0\n",
       "  --------------\n",
       "  minimum time:     6.974 ns (0.00% GC)\n",
       "  median time:      7.172 ns (0.00% GC)\n",
       "  mean time:        8.389 ns (0.00% GC)\n",
       "  maximum time:     98.570 ns (0.00% GC)\n",
       "  --------------\n",
       "  samples:          10000\n",
       "  evals/sample:     1000\n",
       "  time tolerance:   5.00%\n",
       "  memory tolerance: 1.00%"
      ]
     },
     "execution_count": 366,
     "metadata": {},
     "output_type": "execute_result"
    }
   ],
   "source": [
    "@benchmark interp.interp2($c, $p)"
   ]
  },
  {
   "cell_type": "code",
   "execution_count": 367,
   "metadata": {
    "collapsed": false
   },
   "outputs": [
    {
     "data": {
      "text/plain": [
       "2-element Interpolations.BSplineInterpolation{Float64,1,Array{Float64,1},Interpolations.BSpline{Interpolations.Linear},Interpolations.OnGrid,0}:\n",
       " 1.0\n",
       " 2.0"
      ]
     },
     "execution_count": 367,
     "metadata": {},
     "output_type": "execute_result"
    }
   ],
   "source": [
    "itp = interpolate(c, BSpline(Linear()), OnGrid())"
   ]
  },
  {
   "cell_type": "code",
   "execution_count": 369,
   "metadata": {
    "collapsed": false
   },
   "outputs": [
    {
     "data": {
      "text/plain": [
       "BenchmarkTools.Trial: \n",
       "  memory estimate:  0.00 bytes\n",
       "  allocs estimate:  0\n",
       "  --------------\n",
       "  minimum time:     6.426 ns (0.00% GC)\n",
       "  median time:      6.751 ns (0.00% GC)\n",
       "  mean time:        7.248 ns (0.00% GC)\n",
       "  maximum time:     32.212 ns (0.00% GC)\n",
       "  --------------\n",
       "  samples:          10000\n",
       "  evals/sample:     1000\n",
       "  time tolerance:   5.00%\n",
       "  memory tolerance: 1.00%"
      ]
     },
     "execution_count": 369,
     "metadata": {},
     "output_type": "execute_result"
    }
   ],
   "source": [
    "@benchmark $itp[$p[1] + 1]"
   ]
  },
  {
   "cell_type": "code",
   "execution_count": 370,
   "metadata": {
    "collapsed": false
   },
   "outputs": [
    {
     "data": {
      "text/plain": [
       "2×2 StaticArrays.SMatrix{2,2,Int64,4}:\n",
       " 1  3\n",
       " 2  4"
      ]
     },
     "execution_count": 370,
     "metadata": {},
     "output_type": "execute_result"
    }
   ],
   "source": [
    "c = SMatrix{2,2}(1,2,3,4)"
   ]
  },
  {
   "cell_type": "code",
   "execution_count": 371,
   "metadata": {
    "collapsed": false
   },
   "outputs": [
    {
     "name": "stdout",
     "output_type": "stream",
     "text": [
      "BenchmarkTools.Trial: \n",
      "  memory estimate:  0.00 bytes\n",
      "  allocs estimate:  0\n",
      "  --------------\n",
      "  minimum time:     22.254 ns (0.00% GC)\n",
      "  median time:      22.531 ns (0.00% GC)\n",
      "  mean time:        24.091 ns (0.00% GC)\n",
      "  maximum time:     114.222 ns (0.00% GC)\n",
      "  --------------\n",
      "  samples:          10000\n",
      "  evals/sample:     996\n",
      "  time tolerance:   5.00%\n",
      "  memory tolerance: 1.00%\n"
     ]
    },
    {
     "data": {
      "text/plain": [
       "1.75"
      ]
     },
     "execution_count": 371,
     "metadata": {},
     "output_type": "execute_result"
    }
   ],
   "source": [
    "p = SVector(0.25, 0.25)\n",
    "println(@benchmark interp.interpolate($c, $p))\n",
    "interp.interpolate(c, p)"
   ]
  },
  {
   "cell_type": "code",
   "execution_count": 372,
   "metadata": {
    "collapsed": false
   },
   "outputs": [
    {
     "name": "stdout",
     "output_type": "stream",
     "text": [
      "BenchmarkTools.Trial: \n",
      "  memory estimate:  0.00 bytes\n",
      "  allocs estimate:  0\n",
      "  --------------\n",
      "  minimum time:     7.855 ns (0.00% GC)\n",
      "  median time:      8.356 ns (0.00% GC)\n",
      "  mean time:        8.463 ns (0.00% GC)\n",
      "  maximum time:     23.958 ns (0.00% GC)\n",
      "  --------------\n",
      "  samples:          10000\n",
      "  evals/sample:     999\n",
      "  time tolerance:   5.00%\n",
      "  memory tolerance: 1.00%\n"
     ]
    },
    {
     "data": {
      "text/plain": [
       "1.75"
      ]
     },
     "execution_count": 372,
     "metadata": {},
     "output_type": "execute_result"
    }
   ],
   "source": [
    "println(@benchmark interp.interp2($c, $p))\n",
    "interp.interp2(c, p)"
   ]
  },
  {
   "cell_type": "code",
   "execution_count": 374,
   "metadata": {
    "collapsed": false
   },
   "outputs": [
    {
     "data": {
      "text/plain": [
       "1.75"
      ]
     },
     "execution_count": 374,
     "metadata": {},
     "output_type": "execute_result"
    }
   ],
   "source": [
    "itp = interpolate(c, BSpline(Linear()), OnGrid())\n",
    "itp[(p + 1)...]"
   ]
  },
  {
   "cell_type": "code",
   "execution_count": 375,
   "metadata": {
    "collapsed": false
   },
   "outputs": [
    {
     "data": {
      "text/plain": [
       "BenchmarkTools.Trial: \n",
       "  memory estimate:  0.00 bytes\n",
       "  allocs estimate:  0\n",
       "  --------------\n",
       "  minimum time:     13.466 ns (0.00% GC)\n",
       "  median time:      14.748 ns (0.00% GC)\n",
       "  mean time:        15.336 ns (0.00% GC)\n",
       "  maximum time:     60.786 ns (0.00% GC)\n",
       "  --------------\n",
       "  samples:          10000\n",
       "  evals/sample:     998\n",
       "  time tolerance:   5.00%\n",
       "  memory tolerance: 1.00%"
      ]
     },
     "execution_count": 375,
     "metadata": {},
     "output_type": "execute_result"
    }
   ],
   "source": [
    "@benchmark $itp[$p[1] + 1, $p[2] + 1]"
   ]
  },
  {
   "cell_type": "code",
   "execution_count": 386,
   "metadata": {
    "collapsed": false
   },
   "outputs": [
    {
     "name": "stdout",
     "output_type": "stream",
     "text": [
      "BenchmarkTools.Trial: \n",
      "  memory estimate:  0.00 bytes\n",
      "  allocs estimate:  0\n",
      "  --------------\n",
      "  minimum time:     44.476 ns (0.00% GC)\n",
      "  median time:      48.527 ns (0.00% GC)\n",
      "  mean time:        54.181 ns (0.00% GC)\n",
      "  maximum time:     290.535 ns (0.00% GC)\n",
      "  --------------\n",
      "  samples:          10000\n",
      "  evals/sample:     990\n",
      "  time tolerance:   5.00%\n",
      "  memory tolerance: 1.00%\n"
     ]
    },
    {
     "data": {
      "text/plain": [
       "4.25"
      ]
     },
     "execution_count": 386,
     "metadata": {},
     "output_type": "execute_result"
    }
   ],
   "source": [
    "c = SArray{(2,2,2)}(1:8)\n",
    "p = SVector(0.25, 0.5, 0.5)\n",
    "println(@benchmark interp.interpolate($c, $p))\n",
    "interp.interpolate(c, p)"
   ]
  },
  {
   "cell_type": "code",
   "execution_count": 387,
   "metadata": {
    "collapsed": false
   },
   "outputs": [
    {
     "data": {
      "text/plain": [
       "BenchmarkTools.Trial: \n",
       "  memory estimate:  0.00 bytes\n",
       "  allocs estimate:  0\n",
       "  --------------\n",
       "  minimum time:     5.871 ns (0.00% GC)\n",
       "  median time:      6.164 ns (0.00% GC)\n",
       "  mean time:        6.860 ns (0.00% GC)\n",
       "  maximum time:     38.895 ns (0.00% GC)\n",
       "  --------------\n",
       "  samples:          10000\n",
       "  evals/sample:     1000\n",
       "  time tolerance:   5.00%\n",
       "  memory tolerance: 1.00%"
      ]
     },
     "execution_count": 387,
     "metadata": {},
     "output_type": "execute_result"
    }
   ],
   "source": [
    "@benchmark interpolate!($c, BSpline(Linear()), OnGrid())"
   ]
  },
  {
   "cell_type": "code",
   "execution_count": 389,
   "metadata": {
    "collapsed": false
   },
   "outputs": [
    {
     "data": {
      "text/plain": [
       "4.25"
      ]
     },
     "execution_count": 389,
     "metadata": {},
     "output_type": "execute_result"
    }
   ],
   "source": [
    "itp = interpolate!(c, BSpline(Linear()), OnGrid())\n",
    "itp[(p + 1)...]"
   ]
  },
  {
   "cell_type": "code",
   "execution_count": 390,
   "metadata": {
    "collapsed": false
   },
   "outputs": [
    {
     "data": {
      "text/plain": [
       "BenchmarkTools.Trial: \n",
       "  memory estimate:  0.00 bytes\n",
       "  allocs estimate:  0\n",
       "  --------------\n",
       "  minimum time:     42.996 ns (0.00% GC)\n",
       "  median time:      44.323 ns (0.00% GC)\n",
       "  mean time:        45.153 ns (0.00% GC)\n",
       "  maximum time:     154.435 ns (0.00% GC)\n",
       "  --------------\n",
       "  samples:          10000\n",
       "  evals/sample:     990\n",
       "  time tolerance:   5.00%\n",
       "  memory tolerance: 1.00%"
      ]
     },
     "execution_count": 390,
     "metadata": {},
     "output_type": "execute_result"
    }
   ],
   "source": [
    "@benchmark $itp[$p[1] + 1, $p[2] + 1, $p[3] + 1]"
   ]
  },
  {
   "cell_type": "code",
   "execution_count": 391,
   "metadata": {
    "collapsed": false
   },
   "outputs": [
    {
     "data": {
      "text/plain": [
       "2×2×2 StaticArrays.SArray{(2,2,2),Int64,3,8}:\n",
       "[:, :, 1] =\n",
       " 1  3\n",
       " 2  4\n",
       "\n",
       "[:, :, 2] =\n",
       " 5  7\n",
       " 6  8"
      ]
     },
     "execution_count": 391,
     "metadata": {},
     "output_type": "execute_result"
    }
   ],
   "source": [
    "itp.coefs"
   ]
  },
  {
   "cell_type": "code",
   "execution_count": 392,
   "metadata": {
    "collapsed": false
   },
   "outputs": [
    {
     "data": {
      "text/plain": [
       "BenchmarkTools.Trial: \n",
       "  memory estimate:  32.00 bytes\n",
       "  allocs estimate:  1\n",
       "  --------------\n",
       "  minimum time:     80.932 ns (0.00% GC)\n",
       "  median time:      89.466 ns (0.00% GC)\n",
       "  mean time:        99.343 ns (2.58% GC)\n",
       "  maximum time:     6.210 μs (0.00% GC)\n",
       "  --------------\n",
       "  samples:          10000\n",
       "  evals/sample:     966\n",
       "  time tolerance:   5.00%\n",
       "  memory tolerance: 1.00%"
      ]
     },
     "execution_count": 392,
     "metadata": {},
     "output_type": "execute_result"
    }
   ],
   "source": [
    "@benchmark size($itp)"
   ]
  },
  {
   "cell_type": "code",
   "execution_count": 394,
   "metadata": {
    "collapsed": false
   },
   "outputs": [
    {
     "data": {
      "text/html": [
       "size<i>{T,N}</i>(itp::<b>Interpolations.AbstractInterpolation{T,N,IT<:Union{Interpolations.InterpolationType,Tuple{Vararg{Interpolations.InterpolationType,N<:Any}}},GT<:Union{Interpolations.GridType,Interpolations.NoInterp,Tuple{Vararg{Union{Interpolations.GridType,Interpolations.NoInterp},N<:Any}}}}</b>) at <a href=\"https://github.com/tlycken/Interpolations.jl/tree/e8464501689ac1fbdd53c42abde3bbab50196aa2/src/Interpolations.jl#L66\" target=\"_blank\">/Users/rdeits/.julia/v0.5/Interpolations/src/Interpolations.jl:66</a>"
      ],
      "text/plain": [
       "size{T,N}(itp::Interpolations.AbstractInterpolation{T,N,IT<:Union{Interpolations.InterpolationType,Tuple{Vararg{Interpolations.InterpolationType,N<:Any}}},GT<:Union{Interpolations.GridType,Interpolations.NoInterp,Tuple{Vararg{Union{Interpolations.GridType,Interpolations.NoInterp},N<:Any}}}}) at /Users/rdeits/.julia/v0.5/Interpolations/src/Interpolations.jl:66"
      ]
     },
     "execution_count": 394,
     "metadata": {},
     "output_type": "execute_result"
    }
   ],
   "source": [
    "@which size(itp)"
   ]
  },
  {
   "cell_type": "code",
   "execution_count": 393,
   "metadata": {
    "collapsed": false
   },
   "outputs": [
    {
     "name": "stdout",
     "output_type": "stream",
     "text": [
      "Variables:\n",
      "  #self#::Base.#size\n",
      "  itp::Interpolations.BSplineInterpolation{Float64,3,StaticArrays.SArray{(2,2,2),Int64,3,8},Interpolations.BSpline{Interpolations.Linear},Interpolations.OnGrid,0}\n",
      "  #1::Interpolations.##1#2{Interpolations.BSplineInterpolation{Float64,3,StaticArrays.SArray{(2,2,2),Int64,3,8},Interpolations.BSpline{Interpolations.Linear},Interpolations.OnGrid,0}}\n",
      "\n",
      "Body:\n",
      "  begin \n",
      "      #1::Interpolations.##1#2{Interpolations.BSplineInterpolation{Float64,3,StaticArrays.SArray{(2,2,2),Int64,3,8},Interpolations.BSpline{Interpolations.Linear},Interpolations.OnGrid,0}} = $(Expr(:new, Interpolations.##1#2{Interpolations.BSplineInterpolation{Float64,3,StaticArrays.SArray{(2,2,2),Int64,3,8},Interpolations.BSpline{Interpolations.Linear},Interpolations.OnGrid,0}}, :(itp)))\n",
      "      SSAValue(0) = #1::Interpolations.##1#2{Interpolations.BSplineInterpolation{Float64,3,StaticArrays.SArray{(2,2,2),Int64,3,8},Interpolations.BSpline{Interpolations.Linear},Interpolations.OnGrid,0}}\n",
      "      SSAValue(1) = $(Expr(:invoke, LambdaInfo for ntuple(::Interpolations.##1#2{Interpolations.BSplineInterpolation{Float64,3,StaticArrays.SArray{(2,2,2),Int64,3,8},Interpolations.BSpline{Interpolations.Linear},Interpolations.OnGrid,0}}, ::Int64), :(Interpolations.ntuple), SSAValue(0), :($(Expr(:static_parameter, 2)))))\n",
      "      SSAValue(2) = Tuple{Int64,Int64,Int64}\n",
      "      return (Core.typeassert)(SSAValue(1),SSAValue(2))::Tuple{Int64,Int64,Int64}\n",
      "  end::Tuple{Int64,Int64,Int64}\n"
     ]
    }
   ],
   "source": [
    "@code_warntype size(itp)"
   ]
  },
  {
   "cell_type": "code",
   "execution_count": 381,
   "metadata": {
    "collapsed": false
   },
   "outputs": [
    {
     "data": {
      "text/plain": [
       "Interpolations.BSplineInterpolation{Float64,3,Array{Float64,3},Interpolations.BSpline{Interpolations.Linear},Interpolations.OnGrid,0}"
      ]
     },
     "execution_count": 381,
     "metadata": {},
     "output_type": "execute_result"
    }
   ],
   "source": [
    "typeof(itp)"
   ]
  },
  {
   "cell_type": "code",
   "execution_count": 345,
   "metadata": {
    "collapsed": false
   },
   "outputs": [
    {
     "data": {
      "text/plain": [
       "4.25"
      ]
     },
     "execution_count": 345,
     "metadata": {},
     "output_type": "execute_result"
    }
   ],
   "source": [
    "interp.interp2(c, p)"
   ]
  },
  {
   "cell_type": "code",
   "execution_count": 346,
   "metadata": {
    "collapsed": false
   },
   "outputs": [
    {
     "data": {
      "text/plain": [
       "BenchmarkTools.Trial: \n",
       "  memory estimate:  112.00 bytes\n",
       "  allocs estimate:  7\n",
       "  --------------\n",
       "  minimum time:     48.078 ns (0.00% GC)\n",
       "  median time:      56.110 ns (0.00% GC)\n",
       "  mean time:        69.957 ns (11.09% GC)\n",
       "  maximum time:     3.043 μs (93.19% GC)\n",
       "  --------------\n",
       "  samples:          10000\n",
       "  evals/sample:     988\n",
       "  time tolerance:   5.00%\n",
       "  memory tolerance: 1.00%"
      ]
     },
     "execution_count": 346,
     "metadata": {},
     "output_type": "execute_result"
    }
   ],
   "source": [
    "@benchmark interp.interp2($c, $p)"
   ]
  },
  {
   "cell_type": "code",
   "execution_count": 330,
   "metadata": {
    "collapsed": false
   },
   "outputs": [
    {
     "data": {
      "text/plain": [
       "4.25"
      ]
     },
     "execution_count": 330,
     "metadata": {},
     "output_type": "execute_result"
    }
   ],
   "source": [
    "brt.ASDFs.interpolate(c, 0.25, 0.5, 0.5)"
   ]
  },
  {
   "cell_type": "code",
   "execution_count": null,
   "metadata": {
    "collapsed": true
   },
   "outputs": [],
   "source": [
    "interp.interpolate(c, SVector(0.25, 0.25))"
   ]
  },
  {
   "cell_type": "code",
   "execution_count": null,
   "metadata": {
    "collapsed": true
   },
   "outputs": [],
   "source": [
    "interp.interpolate(c, SVector(0.5, 0.5))"
   ]
  },
  {
   "cell_type": "code",
   "execution_count": 15,
   "metadata": {
    "collapsed": false
   },
   "outputs": [
    {
     "data": {
      "text/plain": [
       "2×3×4 Array{Float64,3}:\n",
       "[:, :, 1] =\n",
       " 0.263339  0.333819  0.0193581\n",
       " 0.532203  0.858432  0.856775 \n",
       "\n",
       "[:, :, 2] =\n",
       " 0.87074   0.481755   0.563134\n",
       " 0.281816  0.0394651  0.410987\n",
       "\n",
       "[:, :, 3] =\n",
       " 0.426685  0.290138  0.0850805\n",
       " 0.545889  0.437831  0.445268 \n",
       "\n",
       "[:, :, 4] =\n",
       " 0.807086  0.386907  0.695631\n",
       " 0.459884  0.713543  0.516528"
      ]
     },
     "execution_count": 15,
     "metadata": {},
     "output_type": "execute_result"
    }
   ],
   "source": [
    "A = rand((2,3,4))"
   ]
  },
  {
   "cell_type": "code",
   "execution_count": 19,
   "metadata": {
    "collapsed": false
   },
   "outputs": [
    {
     "name": "stdout",
     "output_type": "stream",
     "text": [
      "Variables:\n",
      "  #self#::interp.#slicelast\n",
      "  A::Array{Float64,3}\n",
      "  i::Int64\n",
      "\n",
      "Body:\n",
      "  begin  # line 6:\n",
      "      SSAValue(18) = interp.:\n",
      "      SSAValue(19) = interp.:\n",
      "      SSAValue(20) = i::Int64\n",
      "      # meta: location abstractarray.jl getindex 752\n",
      "      SSAValue(15) = SSAValue(18)\n",
      "      SSAValue(16) = SSAValue(19)\n",
      "      SSAValue(17) = SSAValue(20)\n",
      "      $(Expr(:inbounds, false))\n",
      "      # meta: location multidimensional.jl _getindex 270\n",
      "      $(Expr(:boundscheck, true))\n",
      "      SSAValue(2) = (Core.tuple)(SSAValue(15),SSAValue(16),SSAValue(17))::Tuple{Colon,Colon,Int64}\n",
      "      $(Expr(:inbounds, false))\n",
      "      # meta: location abstractarray.jl checkbounds 284\n",
      "      # meta: location abstractarray.jl checkbounds 270\n",
      "      # meta: location abstractarray.jl indices 67\n",
      "      # meta: location array.jl size 20\n",
      "      # meta: location array.jl _size 24\n",
      "      SSAValue(9) = (Base.arraysize)(A::Array{Float64,3},(Base.box)(Int64,(Base.add_int)(0,1)))::Int64\n",
      "      # meta: location array.jl _size 24\n",
      "      SSAValue(7) = SSAValue(9)\n",
      "      SSAValue(8) = (Base.arraysize)(A::Array{Float64,3},(Base.box)(Int64,(Base.add_int)(1,1)))::Int64\n",
      "      # meta: location array.jl _size 24\n",
      "      SSAValue(13) = (Base.arraysize)(A::Array{Float64,3},(Base.box)(Int64,(Base.add_int)(2,1)))::Int64\n",
      "      # meta: pop location\n",
      "      # meta: pop location\n",
      "      # meta: pop location\n",
      "      # meta: pop location\n",
      "      # meta: location tuple.jl map 94\n",
      "      SSAValue(12) = SSAValue(7)\n",
      "      SSAValue(11) = SSAValue(8)\n",
      "      SSAValue(10) = SSAValue(13)\n",
      "      # meta: pop location\n",
      "      # meta: pop location\n",
      "      # meta: location abstractarray.jl checkbounds_indices 309\n",
      "      # meta: location abstractarray.jl checkbounds_indices 309\n",
      "      # meta: location abstractarray.jl checkbounds_indices 319\n",
      "      SSAValue(14) = (Core.getfield)(SSAValue(2),3)::Int64\n",
      "      # meta: pop location\n",
      "      # meta: pop location\n",
      "      # meta: pop location\n",
      "      # meta: pop location\n",
      "      SSAValue(3) = (Base.box)(Base.Bool,(Base.and_int)($(QuoteNode(true)),(Base.box)(Base.Bool,(Base.and_int)($(QuoteNode(true)),(Base.box)(Base.Bool,(Base.and_int)((Base.sle_int)(1,SSAValue(14))::Bool,(Base.sle_int)(SSAValue(14),(Base.select_value)((Base.slt_int)(SSAValue(10),0)::Bool,0,SSAValue(10))::Int64)::Bool))))))\n",
      "      unless SSAValue(3) goto 46\n",
      "      goto 48\n",
      "      46: \n",
      "      $(Expr(:invoke, LambdaInfo for throw_boundserror(::Array{Float64,3}, ::Tuple{Colon,Colon,Int64}), :(Base.throw_boundserror), :(A), SSAValue(2)))\n",
      "      48: \n",
      "      # meta: pop location\n",
      "      $(Expr(:inbounds, :pop))\n",
      "      Base.nothing\n",
      "      $(Expr(:boundscheck, :pop))\n",
      "      # meta: pop location\n",
      "      $(Expr(:inbounds, :pop))\n",
      "      # meta: pop location\n",
      "      return $(Expr(:invoke, LambdaInfo for _unsafe_getindex(::Base.LinearFast, ::Array{Float64,3}, ::Colon, ::Colon, ::Int64), :(Base._unsafe_getindex), :($(Expr(:new, :(Base.LinearFast)))), :(A), SSAValue(15), SSAValue(16), SSAValue(17)))\n",
      "  end::Array{Float64,2}\n"
     ]
    }
   ],
   "source": [
    "@code_warntype interp.slicelast(A, 2)"
   ]
  },
  {
   "cell_type": "code",
   "execution_count": 54,
   "metadata": {
    "collapsed": false
   },
   "outputs": [
    {
     "data": {
      "text/plain": [
       "Cell: Oct.HyperRectangle{3,Float64}([-2.5,-10.0,-10.0],[2.5,2.5,2.5])"
      ]
     },
     "execution_count": 54,
     "metadata": {},
     "output_type": "execute_result"
    }
   ],
   "source": [
    "cell = adf[1,1,1][2,1,1][2,1,1][2,1,1]"
   ]
  },
  {
   "cell_type": "code",
   "execution_count": 41,
   "metadata": {
    "collapsed": false
   },
   "outputs": [
    {
     "data": {
      "text/plain": [
       "13.302397285592981"
      ]
     },
     "execution_count": 41,
     "metadata": {},
     "output_type": "execute_result"
    }
   ],
   "source": [
    "interpolate(cell, Oct.center(cell.boundary))"
   ]
  },
  {
   "cell_type": "code",
   "execution_count": 42,
   "metadata": {
    "collapsed": false
   },
   "outputs": [
    {
     "data": {
      "text/plain": [
       "13.272975363497064"
      ]
     },
     "execution_count": 42,
     "metadata": {},
     "output_type": "execute_result"
    }
   ],
   "source": [
    "s(Oct.center(cell.boundary))"
   ]
  },
  {
   "cell_type": "code",
   "execution_count": 44,
   "metadata": {
    "collapsed": false
   },
   "outputs": [
    {
     "data": {
      "text/plain": [
       "BenchmarkTools.Trial: \n",
       "  memory estimate:  0.00 bytes\n",
       "  allocs estimate:  0\n",
       "  --------------\n",
       "  minimum time:     265.216 ns (0.00% GC)\n",
       "  median time:      291.348 ns (0.00% GC)\n",
       "  mean time:        301.750 ns (0.00% GC)\n",
       "  maximum time:     986.351 ns (0.00% GC)\n",
       "  --------------\n",
       "  samples:          10000\n",
       "  evals/sample:     305\n",
       "  time tolerance:   5.00%\n",
       "  memory tolerance: 1.00%"
      ]
     },
     "execution_count": 44,
     "metadata": {},
     "output_type": "execute_result"
    }
   ],
   "source": [
    "p = SVector(0.01, 0.01, 0.01)\n",
    "@benchmark Oct.findleaf($adf, $p)"
   ]
  },
  {
   "cell_type": "code",
   "execution_count": null,
   "metadata": {
    "collapsed": false
   },
   "outputs": [],
   "source": [
    "plt = scatter3d(1, xlim=(-10,10), ylim=(-10,10), zlim=(-10,10), marker=1)\n",
    "queue = [adf]\n",
    "i = 0\n",
    "while !isempty(queue) && i < 1000\n",
    "    i += 1\n",
    "    cell = pop!(queue)\n",
    "    for vert in Oct.vertices(cell.boundary)\n",
    "        push!(plt, vert...)\n",
    "    end\n",
    "    if !Oct.isleaf(cell)\n",
    "        append!(queue, Oct.children(cell))\n",
    "    end\n",
    "end\n",
    "plt"
   ]
  },
  {
   "cell_type": "code",
   "execution_count": null,
   "metadata": {
    "collapsed": true
   },
   "outputs": [],
   "source": []
  }
 ],
 "metadata": {
  "kernelspec": {
   "display_name": "Julia 0.5.0",
   "language": "julia",
   "name": "julia-0.5"
  },
  "language_info": {
   "file_extension": ".jl",
   "mimetype": "application/julia",
   "name": "julia",
   "version": "0.5.0"
  }
 },
 "nbformat": 4,
 "nbformat_minor": 1
}
