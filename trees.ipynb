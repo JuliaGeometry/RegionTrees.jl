{
 "cells": [
  {
   "cell_type": "code",
   "execution_count": 153,
   "metadata": {
    "collapsed": false
   },
   "outputs": [
    {
     "name": "stderr",
     "output_type": "stream",
     "text": [
      "WARNING: replacing module Oct\n"
     ]
    },
    {
     "data": {
      "text/plain": [
       "Oct"
      ]
     },
     "execution_count": 153,
     "metadata": {},
     "output_type": "execute_result"
    }
   ],
   "source": [
    "module Oct\n",
    "\n",
    "using StaticArrays\n",
    "import StaticArrays: size, getindex\n",
    "\n",
    "immutable Partition{N, T, L} <: StaticArray{T, N}\n",
    "    data::NTuple{L, T}\n",
    "end\n",
    "@generated function Partition{L, T}(x::NTuple{L, T})\n",
    "    @assert log2(L) == round(log2(L)) \"L must equal 2^N for integer N\"\n",
    "    N = Int(log2(L))\n",
    "    :(Partition{$N, T, L}(x))\n",
    "end\n",
    "\n",
    "@generated size{N, T, L}(::Type{Partition{N, T, L}}) = Expr(:tuple, [2 for i in 1:N]...)\n",
    "getindex(b::Partition, i::Integer) = b.data[i]\n",
    "\n",
    "type Cell{Data, N, T, L}\n",
    "    origin::SVector{N, T}\n",
    "    widths::SVector{N, T}\n",
    "    data::Data\n",
    "    divisions::SVector{N, T}\n",
    "    children::Nullable{Partition{N, Cell{Data, N, T}, L}}\n",
    "end\n",
    "\n",
    "@generated function Cell{Data, N, T}(origin::SVector{N, T}, widths::SVector{N, T}, data::Data=nothing)\n",
    "    L = 2^N\n",
    "    :(Cell{Data, N, T, $L}(origin, widths, data, widths / 2, Nullable{Partition{N, T, $L}}()))\n",
    "end\n",
    "\n",
    "isleaf(cell::Cell) = !isnull(cell.children)\n",
    "\n",
    "split_data(cell, offset) = data\n",
    "split_data(cell::Cell{String}, offset::Tuple) = cell.data * \"|$(offset)\"\n",
    "\n",
    "getindex(cell::Cell, I) = getindex(get(cell.children), I)\n",
    "getindex(cell::Cell, I...) = getindex(get(cell.children), I...)\n",
    "\n",
    "@generated function split!(cell::Cell)\n",
    "    split!_impl(cell)\n",
    "end\n",
    "\n",
    "function split!_impl{Data, N, T, L}(::Type{Cell{Data, N, T, L}})\n",
    "    children = Array{Expr, N}([2 for i in 1:N]...)\n",
    "    for I in CartesianRange(tuple([2 for i in 1:N]...))\n",
    "        offset = Expr(:call, :SVector, (0.5 * (SVector(I.I) - 1))...)\n",
    "        children[I] = :(Cell(cell.origin + $(offset) .* cell.widths, \n",
    "                             cell.widths ./ 2, \n",
    "                             split_data(cell, $(I.I))))\n",
    "    end\n",
    "    \n",
    "    quote\n",
    "        @assert !isleaf(cell)\n",
    "        cell.children = Nullable(Partition($(Expr(:tuple, children...))))\n",
    "    end\n",
    "end\n",
    "\n",
    "\n",
    "\n",
    "end\n",
    "    "
   ]
  },
  {
   "cell_type": "code",
   "execution_count": 154,
   "metadata": {
    "collapsed": false
   },
   "outputs": [
    {
     "data": {
      "text/plain": [
       "Oct.Cell{String,2,Float64,4}([0.0,0.0],[1.0,1.0],\"\",[0.5,0.5],Nullable{Oct.Partition{2,Oct.Cell{String,2,Float64,L},4}}())"
      ]
     },
     "execution_count": 154,
     "metadata": {},
     "output_type": "execute_result"
    }
   ],
   "source": [
    "cell = Oct.Cell(SVector(0., 0), SVector(1., 1), \"\")"
   ]
  },
  {
   "cell_type": "code",
   "execution_count": 155,
   "metadata": {
    "collapsed": false
   },
   "outputs": [
    {
     "data": {
      "text/plain": [
       "\"\""
      ]
     },
     "execution_count": 155,
     "metadata": {},
     "output_type": "execute_result"
    }
   ],
   "source": [
    "cell.data"
   ]
  },
  {
   "cell_type": "code",
   "execution_count": 156,
   "metadata": {
    "collapsed": false
   },
   "outputs": [
    {
     "data": {
      "text/plain": [
       "Nullable{Oct.Partition{2,Oct.Cell{String,2,Float64,4},4}}(Oct.Cell{String,2,Float64,4}[Oct.Cell{String,2,Float64,4}([0.0,0.0],[0.5,0.5],\"|(1,1)\",[0.25,0.25],#NULL) Oct.Cell{String,2,Float64,4}([0.0,0.5],[0.5,0.5],\"|(1,2)\",[0.25,0.25],#NULL); Oct.Cell{String,2,Float64,4}([0.5,0.0],[0.5,0.5],\"|(2,1)\",[0.25,0.25],#NULL) Oct.Cell{String,2,Float64,4}([0.5,0.5],[0.5,0.5],\"|(2,2)\",[0.25,0.25],#NULL)])"
      ]
     },
     "execution_count": 156,
     "metadata": {},
     "output_type": "execute_result"
    }
   ],
   "source": [
    "Oct.split!(cell)"
   ]
  },
  {
   "cell_type": "code",
   "execution_count": 157,
   "metadata": {
    "collapsed": false
   },
   "outputs": [
    {
     "data": {
      "text/plain": [
       "\"|(1,2)\""
      ]
     },
     "execution_count": 157,
     "metadata": {},
     "output_type": "execute_result"
    }
   ],
   "source": [
    "cell[1,2].data"
   ]
  },
  {
   "cell_type": "code",
   "execution_count": 158,
   "metadata": {
    "collapsed": false
   },
   "outputs": [
    {
     "data": {
      "text/plain": [
       "Nullable{Oct.Partition{2,Oct.Cell{String,2,Float64,4},4}}(Oct.Cell{String,2,Float64,4}[Oct.Cell{String,2,Float64,4}([0.0,0.5],[0.25,0.25],\"|(1,2)|(1,1)\",[0.125,0.125],#NULL) Oct.Cell{String,2,Float64,4}([0.0,0.75],[0.25,0.25],\"|(1,2)|(1,2)\",[0.125,0.125],#NULL); Oct.Cell{String,2,Float64,4}([0.25,0.5],[0.25,0.25],\"|(1,2)|(2,1)\",[0.125,0.125],#NULL) Oct.Cell{String,2,Float64,4}([0.25,0.75],[0.25,0.25],\"|(1,2)|(2,2)\",[0.125,0.125],#NULL)])"
      ]
     },
     "execution_count": 158,
     "metadata": {},
     "output_type": "execute_result"
    }
   ],
   "source": [
    "Oct.split!(cell[1,2])"
   ]
  },
  {
   "cell_type": "code",
   "execution_count": 159,
   "metadata": {
    "collapsed": false
   },
   "outputs": [
    {
     "data": {
      "text/plain": [
       "2-element StaticArrays.SVector{2,Float64}:\n",
       " 0.0\n",
       " 0.5"
      ]
     },
     "execution_count": 159,
     "metadata": {},
     "output_type": "execute_result"
    }
   ],
   "source": [
    "cell[1,2][1,1].origin"
   ]
  },
  {
   "cell_type": "code",
   "execution_count": 160,
   "metadata": {
    "collapsed": false
   },
   "outputs": [
    {
     "data": {
      "text/plain": [
       "\"|(1,2)|(1,1)\""
      ]
     },
     "execution_count": 160,
     "metadata": {},
     "output_type": "execute_result"
    }
   ],
   "source": [
    "cell[1,2][1,1].data"
   ]
  },
  {
   "cell_type": "code",
   "execution_count": null,
   "metadata": {
    "collapsed": true
   },
   "outputs": [],
   "source": []
  }
 ],
 "metadata": {
  "kernelspec": {
   "display_name": "Julia 0.5.0",
   "language": "julia",
   "name": "julia-0.5"
  },
  "language_info": {
   "file_extension": ".jl",
   "mimetype": "application/julia",
   "name": "julia",
   "version": "0.5.0"
  }
 },
 "nbformat": 4,
 "nbformat_minor": 1
}
